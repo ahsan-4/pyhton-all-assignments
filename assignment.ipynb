{
 "cells": [
  {
   "cell_type": "code",
   "execution_count": 1,
   "metadata": {},
   "outputs": [
    {
     "name": "stdout",
     "output_type": "stream",
     "text": [
      "Twinkle ,twinkle little star \n",
      "     How are wonder what you are\n",
      "             Up above the world so high\n",
      "              like the diamond in the sky\n",
      "Twinkle ,twinkle little star \n",
      "     How are wonder what you are\n"
     ]
    }
   ],
   "source": [
    "     # Program 1:\n",
    "print(\"Twinkle ,twinkle little star \")\n",
    "print(\"     How are wonder what you are\")\n",
    "print(\"             Up above the world so high\")\n",
    "print(\"              like the diamond in the sky\")\n",
    "print(\"Twinkle ,twinkle little star \")\n",
    "print(\"     How are wonder what you are\")\n"
   ]
  },
  {
   "cell_type": "code",
   "execution_count": 2,
   "metadata": {},
   "outputs": [
    {
     "name": "stdout",
     "output_type": "stream",
     "text": [
      "pyhon version\n",
      "3.7.4 (default, Aug  9 2019, 18:34:13) [MSC v.1915 64 bit (AMD64)]\n",
      "pyhon version_information\n",
      "sys.version_info(major=3, minor=7, micro=4, releaselevel='final', serial=0)\n"
     ]
    }
   ],
   "source": [
    "   # program 2:\n",
    "import sys\n",
    "print(\"pyhon version\")\n",
    "print(sys.version)\n",
    "print(\"pyhon version_information\")\n",
    "print(sys.version_info)\n"
   ]
  },
  {
   "cell_type": "code",
   "execution_count": 3,
   "metadata": {},
   "outputs": [
    {
     "name": "stdout",
     "output_type": "stream",
     "text": [
      "Current date and time is \n",
      "03 -11 -19 23 :14 :15\n"
     ]
    }
   ],
   "source": [
    " #  Program 3:\n",
    "import datetime\n",
    "now = datetime.datetime.now()\n",
    "print(\"Current date and time is \")\n",
    "print(now.strftime(\"%d -%m -%y %H :%M :%S\"))\n"
   ]
  },
  {
   "cell_type": "code",
   "execution_count": 4,
   "metadata": {},
   "outputs": [
    {
     "name": "stdout",
     "output_type": "stream",
     "text": [
      "enter the value of R 2\n",
      "8.56\n"
     ]
    }
   ],
   "source": [
    "# Program 4:\n",
    "r =input(\"enter the value of R \")\n",
    "c = 2 * 2.14 * int(r)\n",
    "print(c)\n"
   ]
  },
  {
   "cell_type": "code",
   "execution_count": 5,
   "metadata": {},
   "outputs": [
    {
     "name": "stdout",
     "output_type": "stream",
     "text": [
      "jawed ahsan\n"
     ]
    }
   ],
   "source": [
    "  # Program 5:\n",
    "x=\"ahsan\"\n",
    "y=\"jawed\"\n",
    "z= y +' ' +x\n",
    "print(z)\n"
   ]
  },
  {
   "cell_type": "code",
   "execution_count": 6,
   "metadata": {},
   "outputs": [
    {
     "name": "stdout",
     "output_type": "stream",
     "text": [
      "enter the value of A12\n",
      "enter the value of B12\n",
      "24\n"
     ]
    }
   ],
   "source": [
    " # Program 6:\n",
    "x=input(\"enter the value of A\")\n",
    "y=input(\"enter the value of B\")\n",
    "z= int(x) + int(y)\n",
    "print(z)\n"
   ]
  },
  {
   "cell_type": "code",
   "execution_count": null,
   "metadata": {},
   "outputs": [],
   "source": []
  }
 ],
 "metadata": {
  "kernelspec": {
   "display_name": "Python 3",
   "language": "python",
   "name": "python3"
  },
  "language_info": {
   "codemirror_mode": {
    "name": "ipython",
    "version": 3
   },
   "file_extension": ".py",
   "mimetype": "text/x-python",
   "name": "python",
   "nbconvert_exporter": "python",
   "pygments_lexer": "ipython3",
   "version": "3.7.4"
  }
 },
 "nbformat": 4,
 "nbformat_minor": 2
}
